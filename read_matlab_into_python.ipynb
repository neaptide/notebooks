{
 "cells": [
  {
   "cell_type": "code",
   "execution_count": 5,
   "metadata": {
    "collapsed": false
   },
   "outputs": [],
   "source": [
    "import scipy.io"
   ]
  },
  {
   "cell_type": "code",
   "execution_count": 7,
   "metadata": {
    "collapsed": false
   },
   "outputs": [
    {
     "name": "stdout",
     "output_type": "stream",
     "text": [
      "C:\\Users\\haines\\Dropbox\\peach\\dataproc\\data\\level1\\b1\n"
     ]
    }
   ],
   "source": [
    "cd C:/Users/haines/Dropbox/peach/dataproc/data/level1/b1"
   ]
  },
  {
   "cell_type": "code",
   "execution_count": 11,
   "metadata": {
    "collapsed": false
   },
   "outputs": [
    {
     "data": {
      "text/plain": [
       "['salin',\n",
       " 'qc',\n",
       " 'press',\n",
       " '__header__',\n",
       " 'gsw_SA',\n",
       " '__globals__',\n",
       " 'platform',\n",
       " 'depth',\n",
       " 'cond',\n",
       " 'dens',\n",
       " 'mtime',\n",
       " 'wtemp',\n",
       " '__version__',\n",
       " 'config']"
      ]
     },
     "execution_count": 11,
     "metadata": {},
     "output_type": "execute_result"
    }
   ],
   "source": [
    "data = scipy.io.loadmat('b1_ctd1_deployall.mat')\n",
    "data.keys()"
   ]
  },
  {
   "cell_type": "markdown",
   "metadata": {},
   "source": [
    "structures are a mess"
   ]
  },
  {
   "cell_type": "code",
   "execution_count": 25,
   "metadata": {
    "collapsed": false
   },
   "outputs": [
    {
     "data": {
      "text/plain": [
       "array([[ ([u'4085'], [[360]], [u'seconds'], [[array([u'mtime'], \n",
       "      dtype='<U5'), array([u'days since 0000-01-01T00:00'], \n",
       "      dtype='<U27')], [array([u'wtemp'], \n",
       "      dtype='<U5'), array([u'deg C'], \n",
       "      dtype='<U5')], [array([u'press'], \n",
       "      dtype='<U5'), array([u'decibars'], \n",
       "      dtype='<U8')], [array([u'cond'], \n",
       "      dtype='<U4'), array([u'S m-1'], \n",
       "      dtype='<U5')], [array([u'salin'], \n",
       "      dtype='<U5'), array([u'psu'], \n",
       "      dtype='<U3')], [array([u'depth'], \n",
       "      dtype='<U5'), array([u'm'], \n",
       "      dtype='<U1')], [array([u'dens'], \n",
       "      dtype='<U4'), array([u'kg m-3'], \n",
       "      dtype='<U6')]])]], \n",
       "      dtype=[('serial_number', 'O'), ('sample_interval', 'O'), ('sample_interval_units', 'O'), ('units', 'O')])"
      ]
     },
     "execution_count": 25,
     "metadata": {},
     "output_type": "execute_result"
    }
   ],
   "source": [
    "data['config']"
   ]
  },
  {
   "cell_type": "markdown",
   "metadata": {},
   "source": [
    "Trying using pytables or h5py"
   ]
  },
  {
   "cell_type": "code",
   "execution_count": 27,
   "metadata": {
    "collapsed": true
   },
   "outputs": [],
   "source": [
    "import tables"
   ]
  },
  {
   "cell_type": "code",
   "execution_count": 28,
   "metadata": {
    "collapsed": false
   },
   "outputs": [
    {
     "ename": "HDF5ExtError",
     "evalue": "HDF5 error back trace\n\n  File \"..\\..\\hdf5-1.8.11\\src\\H5F.c\", line 1582, in H5Fopen\n    unable to open file\n  File \"..\\..\\hdf5-1.8.11\\src\\H5F.c\", line 1373, in H5F_open\n    unable to read superblock\n  File \"..\\..\\hdf5-1.8.11\\src\\H5Fsuper.c\", line 334, in H5F_super_read\n    unable to find file signature\n  File \"..\\..\\hdf5-1.8.11\\src\\H5Fsuper.c\", line 155, in H5F_locate_signature\n    unable to find a valid file signature\n\nEnd of HDF5 error back trace\n\nUnable to open/create file 'b1_ctd1_deployall.mat'",
     "output_type": "error",
     "traceback": [
      "\u001b[1;31m---------------------------------------------------------------------------\u001b[0m",
      "\u001b[1;31mHDF5ExtError\u001b[0m                              Traceback (most recent call last)",
      "\u001b[1;32m<ipython-input-28-653c6a24e69c>\u001b[0m in \u001b[0;36m<module>\u001b[1;34m()\u001b[0m\n\u001b[1;32m----> 1\u001b[1;33m \u001b[0mfile\u001b[0m \u001b[1;33m=\u001b[0m \u001b[0mtables\u001b[0m\u001b[1;33m.\u001b[0m\u001b[0mopenFile\u001b[0m\u001b[1;33m(\u001b[0m\u001b[1;34m'b1_ctd1_deployall.mat'\u001b[0m\u001b[1;33m)\u001b[0m\u001b[1;33m\u001b[0m\u001b[0m\n\u001b[0m",
      "\u001b[1;32mC:\\Anaconda\\lib\\site-packages\\tables\\_past.py\u001b[0m in \u001b[0;36moldfunc\u001b[1;34m(*args, **kwargs)\u001b[0m\n\u001b[0;32m     33\u001b[0m     \u001b[1;32mdef\u001b[0m \u001b[0moldfunc\u001b[0m\u001b[1;33m(\u001b[0m\u001b[1;33m*\u001b[0m\u001b[0margs\u001b[0m\u001b[1;33m,\u001b[0m \u001b[1;33m**\u001b[0m\u001b[0mkwargs\u001b[0m\u001b[1;33m)\u001b[0m\u001b[1;33m:\u001b[0m\u001b[1;33m\u001b[0m\u001b[0m\n\u001b[0;32m     34\u001b[0m         \u001b[0mwarn\u001b[0m\u001b[1;33m(\u001b[0m\u001b[0mwarnmsg\u001b[0m\u001b[1;33m,\u001b[0m \u001b[0mDeprecationWarning\u001b[0m\u001b[1;33m,\u001b[0m \u001b[0mstacklevel\u001b[0m\u001b[1;33m=\u001b[0m\u001b[1;36m2\u001b[0m\u001b[1;33m)\u001b[0m\u001b[1;33m\u001b[0m\u001b[0m\n\u001b[1;32m---> 35\u001b[1;33m         \u001b[1;32mreturn\u001b[0m \u001b[0mobj\u001b[0m\u001b[1;33m(\u001b[0m\u001b[1;33m*\u001b[0m\u001b[0margs\u001b[0m\u001b[1;33m,\u001b[0m \u001b[1;33m**\u001b[0m\u001b[0mkwargs\u001b[0m\u001b[1;33m)\u001b[0m\u001b[1;33m\u001b[0m\u001b[0m\n\u001b[0m\u001b[0;32m     36\u001b[0m     oldfunc.__doc__ = (\n\u001b[0;32m     37\u001b[0m         obj.__doc__ or '') + \"\\n\\n.. warning::\\n\\n    \" + warnmsg + \"\\n\"\n",
      "\u001b[1;32mC:\\Anaconda\\lib\\site-packages\\tables\\file.py\u001b[0m in \u001b[0;36mopen_file\u001b[1;34m(filename, mode, title, root_uep, filters, **kwargs)\u001b[0m\n\u001b[0;32m    316\u001b[0m \u001b[1;33m\u001b[0m\u001b[0m\n\u001b[0;32m    317\u001b[0m     \u001b[1;31m# Finally, create the File instance, and return it\u001b[0m\u001b[1;33m\u001b[0m\u001b[1;33m\u001b[0m\u001b[0m\n\u001b[1;32m--> 318\u001b[1;33m     \u001b[1;32mreturn\u001b[0m \u001b[0mFile\u001b[0m\u001b[1;33m(\u001b[0m\u001b[0mfilename\u001b[0m\u001b[1;33m,\u001b[0m \u001b[0mmode\u001b[0m\u001b[1;33m,\u001b[0m \u001b[0mtitle\u001b[0m\u001b[1;33m,\u001b[0m \u001b[0mroot_uep\u001b[0m\u001b[1;33m,\u001b[0m \u001b[0mfilters\u001b[0m\u001b[1;33m,\u001b[0m \u001b[1;33m**\u001b[0m\u001b[0mkwargs\u001b[0m\u001b[1;33m)\u001b[0m\u001b[1;33m\u001b[0m\u001b[0m\n\u001b[0m\u001b[0;32m    319\u001b[0m \u001b[1;33m\u001b[0m\u001b[0m\n\u001b[0;32m    320\u001b[0m \u001b[0mopenFile\u001b[0m \u001b[1;33m=\u001b[0m \u001b[0mprevious_api\u001b[0m\u001b[1;33m(\u001b[0m\u001b[0mopen_file\u001b[0m\u001b[1;33m)\u001b[0m\u001b[1;33m\u001b[0m\u001b[0m\n",
      "\u001b[1;32mC:\\Anaconda\\lib\\site-packages\\tables\\file.py\u001b[0m in \u001b[0;36m__init__\u001b[1;34m(self, filename, mode, title, root_uep, filters, **kwargs)\u001b[0m\n\u001b[0;32m    789\u001b[0m \u001b[1;33m\u001b[0m\u001b[0m\n\u001b[0;32m    790\u001b[0m         \u001b[1;31m# Now, it is time to initialize the File extension\u001b[0m\u001b[1;33m\u001b[0m\u001b[1;33m\u001b[0m\u001b[0m\n\u001b[1;32m--> 791\u001b[1;33m         \u001b[0mself\u001b[0m\u001b[1;33m.\u001b[0m\u001b[0m_g_new\u001b[0m\u001b[1;33m(\u001b[0m\u001b[0mfilename\u001b[0m\u001b[1;33m,\u001b[0m \u001b[0mmode\u001b[0m\u001b[1;33m,\u001b[0m \u001b[1;33m**\u001b[0m\u001b[0mparams\u001b[0m\u001b[1;33m)\u001b[0m\u001b[1;33m\u001b[0m\u001b[0m\n\u001b[0m\u001b[0;32m    792\u001b[0m \u001b[1;33m\u001b[0m\u001b[0m\n\u001b[0;32m    793\u001b[0m         \u001b[1;31m# Check filters and set PyTables format version for new files.\u001b[0m\u001b[1;33m\u001b[0m\u001b[1;33m\u001b[0m\u001b[0m\n",
      "\u001b[1;32mhdf5extension.pyx\u001b[0m in \u001b[0;36mtables.hdf5extension.File._g_new (tables\\hdf5extension.c:4822)\u001b[1;34m()\u001b[0m\n",
      "\u001b[1;31mHDF5ExtError\u001b[0m: HDF5 error back trace\n\n  File \"..\\..\\hdf5-1.8.11\\src\\H5F.c\", line 1582, in H5Fopen\n    unable to open file\n  File \"..\\..\\hdf5-1.8.11\\src\\H5F.c\", line 1373, in H5F_open\n    unable to read superblock\n  File \"..\\..\\hdf5-1.8.11\\src\\H5Fsuper.c\", line 334, in H5F_super_read\n    unable to find file signature\n  File \"..\\..\\hdf5-1.8.11\\src\\H5Fsuper.c\", line 155, in H5F_locate_signature\n    unable to find a valid file signature\n\nEnd of HDF5 error back trace\n\nUnable to open/create file 'b1_ctd1_deployall.mat'"
     ]
    }
   ],
   "source": [
    "file = tables.openFile('b1_ctd1_deployall.mat')"
   ]
  }
 ],
 "metadata": {
  "kernelspec": {
   "display_name": "Python 2",
   "language": "python",
   "name": "python2"
  },
  "language_info": {
   "codemirror_mode": {
    "name": "ipython",
    "version": 2
   },
   "file_extension": ".py",
   "mimetype": "text/x-python",
   "name": "python",
   "nbconvert_exporter": "python",
   "pygments_lexer": "ipython2",
   "version": "2.7.9"
  }
 },
 "nbformat": 4,
 "nbformat_minor": 0
}
